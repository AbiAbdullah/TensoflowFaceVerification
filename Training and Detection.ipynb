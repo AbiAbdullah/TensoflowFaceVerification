{
 "cells": [
  {
   "cell_type": "markdown",
   "id": "b5cf1616",
   "metadata": {},
   "source": [
    "# 1. Setup"
   ]
  },
  {
   "cell_type": "markdown",
   "id": "36ebe712",
   "metadata": {},
   "source": [
    "## 1.1 Install Dependencies"
   ]
  },
  {
   "cell_type": "code",
   "execution_count": null,
   "id": "6d91b91f",
   "metadata": {
    "scrolled": true
   },
   "outputs": [],
   "source": [
    "!pip install tensorflow==2.7.0 opencv-python matplotlib"
   ]
  },
  {
   "cell_type": "code",
   "execution_count": null,
   "id": "d082a3c5",
   "metadata": {},
   "outputs": [],
   "source": [
    "!pip uninstall tensorflow -y\n",
    "!pip install tensorflow"
   ]
  },
  {
   "cell_type": "markdown",
   "id": "64c59473",
   "metadata": {},
   "source": [
    "## 1.2 Import Dependencies"
   ]
  },
  {
   "cell_type": "code",
   "execution_count": null,
   "id": "0e559e15",
   "metadata": {},
   "outputs": [],
   "source": [
    "# Import standard dependencies\n",
    "\n",
    "import cv2\n",
    "import os\n",
    "import random\n",
    "import numpy as np\n",
    "from matplotlib import pyplot as plt"
   ]
  },
  {
   "cell_type": "code",
   "execution_count": 40,
   "id": "44b30a93",
   "metadata": {},
   "outputs": [],
   "source": [
    "# Import tensorflow dependencies - Functional API\n",
    "from tensorflow.keras.models import Model\n",
    "from tensorflow.keras.layers import Layer, Conv2D, Dense, MaxPooling2D, Input, Flatten\n",
    "import tensorflow as tf"
   ]
  },
  {
   "cell_type": "markdown",
   "id": "88e114ee",
   "metadata": {},
   "source": [
    "## 1.3 Set GPU Growth"
   ]
  },
  {
   "cell_type": "code",
   "execution_count": null,
   "id": "db630975",
   "metadata": {},
   "outputs": [],
   "source": [
    "# Avoid OOM errors by setting GPU Memory Consumption Growth\n",
    "gpus = tf.config.experimental.list_physical_devices('GPU')\n",
    "for gpu in gpus: \n",
    "    tf.config.experimental.set_memory_growth(gpu, True)"
   ]
  },
  {
   "cell_type": "markdown",
   "id": "efffb9da",
   "metadata": {},
   "source": [
    "## 1.4 Create Folder Structures"
   ]
  },
  {
   "cell_type": "code",
   "execution_count": null,
   "id": "64be067b",
   "metadata": {},
   "outputs": [],
   "source": [
    "# Setup paths\n",
    "POS_PATH = os.path.join('data', 'positive')\n",
    "NEG_PATH = os.path.join('data', 'negative')\n",
    "ANC_PATH = os.path.join('data', 'anchor')"
   ]
  },
  {
   "cell_type": "code",
   "execution_count": null,
   "id": "dc9895a0",
   "metadata": {},
   "outputs": [],
   "source": [
    "# Make the directories\n",
    "os.makedirs(POS_PATH)\n",
    "os.makedirs(NEG_PATH)\n",
    "os.makedirs(ANC_PATH)"
   ]
  },
  {
   "cell_type": "markdown",
   "id": "dd2f5be3",
   "metadata": {},
   "source": [
    "# 2. Collect Positives and Anchors"
   ]
  },
  {
   "cell_type": "markdown",
   "id": "c2ee9533",
   "metadata": {},
   "source": [
    "## 2.1 Untar Labelled Faces in the Wild Dataset"
   ]
  },
  {
   "cell_type": "code",
   "execution_count": null,
   "id": "48738ac7",
   "metadata": {},
   "outputs": [],
   "source": [
    "# http://vis-www.cs.umass.edu/lfw/"
   ]
  },
  {
   "cell_type": "code",
   "execution_count": null,
   "id": "81266ff6",
   "metadata": {},
   "outputs": [],
   "source": [
    "# Uncompress Tar GZ Labelled Faces in the Wild Dataset\n",
    "!tar -xf lfw.tgz"
   ]
  },
  {
   "cell_type": "code",
   "execution_count": null,
   "id": "38f8e3ef",
   "metadata": {},
   "outputs": [],
   "source": [
    "# Move LFW Images to the following repository data/negative\n",
    "for directory in os.listdir('lfw'):\n",
    "    for file in os.listdir(os.path.join('lfw', directory)):\n",
    "        EX_PATH = os.path.join('lfw', directory, file)\n",
    "        NEW_PATH = os.path.join(NEG_PATH, file)\n",
    "        os.replace(EX_PATH, NEW_PATH)"
   ]
  },
  {
   "cell_type": "markdown",
   "id": "a7b24928",
   "metadata": {},
   "source": [
    "## 2.2 Collect Positive and Anchor Classes\n"
   ]
  },
  {
   "cell_type": "code",
   "execution_count": null,
   "id": "c5f7396b",
   "metadata": {},
   "outputs": [],
   "source": [
    "# Import uuid library to generate unique image names\n",
    "import uuid"
   ]
  },
  {
   "cell_type": "code",
   "execution_count": null,
   "id": "d70c5f90",
   "metadata": {},
   "outputs": [],
   "source": [
    "os.path.join(ANC_PATH, '{}.jpg'.format(uuid.uuid1()))"
   ]
  },
  {
   "cell_type": "code",
   "execution_count": null,
   "id": "3f8dd0e1",
   "metadata": {},
   "outputs": [],
   "source": [
    "# Establish a connection to the webcam\n",
    "cap = cv2.VideoCapture(0)\n",
    "while cap.isOpened(): \n",
    "    ret, frame = cap.read()\n",
    "   \n",
    "    # Cut down frame to 250x250px\n",
    "    # frame = frame[120:120+250,200:200+250, :]\n",
    "    frame = frame[120:120+500,200:200+550, :]\n",
    "    \n",
    "    # Collect anchors \n",
    "    if cv2.waitKey(1) & 0XFF == ord('a'):\n",
    "        # Create the unique file path \n",
    "        imgname = os.path.join(ANC_PATH, '{}.jpg'.format(uuid.uuid1()))\n",
    "        # Write out anchor image\n",
    "        cv2.imwrite(imgname, frame)\n",
    "    \n",
    "    # Collect positives\n",
    "    if cv2.waitKey(1) & 0XFF == ord('p'):\n",
    "        # Create the unique file path \n",
    "        imgname = os.path.join(POS_PATH, '{}.jpg'.format(uuid.uuid1()))\n",
    "        # Write out positive image\n",
    "        cv2.imwrite(imgname, frame)\n",
    "    \n",
    "    # Show image back to screen\n",
    "    cv2.imshow('Image Collection', frame)\n",
    "    \n",
    "    # Breaking gracefully\n",
    "    if cv2.waitKey(1) & 0XFF == ord('q'):\n",
    "        break\n",
    "        \n",
    "# Release the webcam\n",
    "cap.release()\n",
    "# Close the image show frame\n",
    "cv2.destroyAllWindows()"
   ]
  },
  {
   "cell_type": "code",
   "execution_count": null,
   "id": "b42d1889",
   "metadata": {},
   "outputs": [],
   "source": [
    "plt.imshow(frame[120:120+250,200:200+250, :])"
   ]
  },
  {
   "cell_type": "markdown",
   "id": "c0562e57",
   "metadata": {},
   "source": [
    "## 2.x NEW - Data Augmentation"
   ]
  },
  {
   "cell_type": "code",
   "execution_count": null,
   "id": "d24859e3",
   "metadata": {},
   "outputs": [],
   "source": [
    "def data_aug(img):\n",
    "    data = []\n",
    "    for i in range(9):\n",
    "        img = tf.image.stateless_random_brightness(img, max_delta=0.02, seed=(1,2))\n",
    "        img = tf.image.stateless_random_contrast(img, lower=0.6, upper=1, seed=(1,3))\n",
    "        # img = tf.image.stateless_random_crop(img, size=(20,20,3), seed=(1,2))\n",
    "        img = tf.image.stateless_random_flip_left_right(img, seed=(np.random.randint(100),np.random.randint(100)))\n",
    "        img = tf.image.stateless_random_jpeg_quality(img, min_jpeg_quality=90, max_jpeg_quality=100, seed=(np.random.randint(100),np.random.randint(100)))\n",
    "        img = tf.image.stateless_random_saturation(img, lower=0.9,upper=1, seed=(np.random.randint(100),np.random.randint(100)))\n",
    "            \n",
    "        data.append(img)\n",
    "    \n",
    "    return data"
   ]
  },
  {
   "cell_type": "code",
   "execution_count": null,
   "id": "cbeb5990",
   "metadata": {},
   "outputs": [],
   "source": [
    "import os\n",
    "import uuid\n",
    "os.environ['TF_CPP_MIN_LOG_LEVEL'] = '2'"
   ]
  },
  {
   "cell_type": "code",
   "execution_count": null,
   "id": "ed8fe09b",
   "metadata": {},
   "outputs": [],
   "source": [
    "img_path = os.path.join(ANC_PATH, '924e839c-135f-11ec-b54e-a0cec8d2d278.jpg')\n",
    "img = cv2.imread(img_path)\n",
    "augmented_images = data_aug(img)\n",
    "\n",
    "for image in augmented_images:\n",
    "    cv2.imwrite(os.path.join(ANC_PATH, '{}.jpg'.format(uuid.uuid1())), image.numpy())"
   ]
  },
  {
   "cell_type": "code",
   "execution_count": null,
   "id": "efd9dc4b",
   "metadata": {},
   "outputs": [],
   "source": [
    "for file_name in os.listdir(os.path.join(POS_PATH)):\n",
    "    img_path = os.path.join(POS_PATH, file_name)\n",
    "    img = cv2.imread(img_path)\n",
    "    augmented_images = data_aug(img) \n",
    "    \n",
    "    for image in augmented_images:\n",
    "        cv2.imwrite(os.path.join(POS_PATH, '{}.jpg'.format(uuid.uuid1())), image.numpy())"
   ]
  },
  {
   "cell_type": "markdown",
   "id": "8dc1afc0",
   "metadata": {},
   "source": [
    "# 3. Load and Preprocess Images"
   ]
  },
  {
   "cell_type": "markdown",
   "id": "77247a71",
   "metadata": {},
   "source": [
    "## 3.1 Get Image Directories"
   ]
  },
  {
   "cell_type": "code",
   "execution_count": 12,
   "id": "6fa4aa15",
   "metadata": {},
   "outputs": [],
   "source": [
    "anchor = tf.data.Dataset.list_files(ANC_PATH+'/*.jpg').take(3000) \n",
    "positive = tf.data.Dataset.list_files(POS_PATH+'/*.jpg').take(3000)\n",
    "negative = tf.data.Dataset.list_files(NEG_PATH+'/*.jpg').take(3000)"
   ]
  },
  {
   "cell_type": "code",
   "execution_count": 13,
   "id": "e60d03a1",
   "metadata": {},
   "outputs": [],
   "source": [
    "dir_test = anchor.as_numpy_iterator()"
   ]
  },
  {
   "cell_type": "code",
   "execution_count": 14,
   "id": "6fecf2c8",
   "metadata": {},
   "outputs": [
    {
     "name": "stdout",
     "output_type": "stream",
     "text": [
      "b'data/anchor/210e5cf8-503d-11ec-bec3-acde48001122.jpg'\n"
     ]
    }
   ],
   "source": [
    "print(dir_test.next())"
   ]
  },
  {
   "cell_type": "markdown",
   "id": "cce3148b",
   "metadata": {},
   "source": [
    "## 3.2 Preprocessing - Scale and Resize"
   ]
  },
  {
   "cell_type": "code",
   "execution_count": 15,
   "id": "107eb667",
   "metadata": {},
   "outputs": [],
   "source": [
    "def preprocess(file_path):\n",
    "    \n",
    "    # Read in image from file path\n",
    "    byte_img = tf.io.read_file(file_path)\n",
    "    # Load in the image \n",
    "    img = tf.io.decode_jpeg(byte_img)\n",
    "    \n",
    "    # Preprocessing steps - resizing the image to be 100x100x3\n",
    "    img = tf.image.resize(img, (100,100))\n",
    "    # Scale image to be between 0 and 1 \n",
    "    img = img / 255.0\n",
    "\n",
    "    # Return image\n",
    "    return img"
   ]
  },
  {
   "cell_type": "code",
   "execution_count": null,
   "id": "34696696",
   "metadata": {},
   "outputs": [],
   "source": [
    "img = preprocess('data\\\\anchor\\\\a4e73462-135f-11ec-9e6e-a0cec8d2d278.jpg')"
   ]
  },
  {
   "cell_type": "code",
   "execution_count": null,
   "id": "efb686ac",
   "metadata": {},
   "outputs": [],
   "source": [
    "img.numpy().max() "
   ]
  },
  {
   "cell_type": "code",
   "execution_count": 17,
   "id": "8f3590ee",
   "metadata": {},
   "outputs": [
    {
     "ename": "NameError",
     "evalue": "name 'dataset' is not defined",
     "output_type": "error",
     "traceback": [
      "\u001b[0;31m---------------------------------------------------------------------------\u001b[0m",
      "\u001b[0;31mNameError\u001b[0m                                 Traceback (most recent call last)",
      "\u001b[0;32m/var/folders/2q/2kbjb2q57j5dyrr9xg_p7g3m0000gn/T/ipykernel_4517/2569123063.py\u001b[0m in \u001b[0;36m<module>\u001b[0;34m\u001b[0m\n\u001b[0;32m----> 1\u001b[0;31m \u001b[0mdataset\u001b[0m\u001b[0;34m.\u001b[0m\u001b[0mmap\u001b[0m\u001b[0;34m(\u001b[0m\u001b[0mpreprocess\u001b[0m\u001b[0;34m)\u001b[0m\u001b[0;34m\u001b[0m\u001b[0;34m\u001b[0m\u001b[0m\n\u001b[0m",
      "\u001b[0;31mNameError\u001b[0m: name 'dataset' is not defined"
     ]
    }
   ],
   "source": [
    "dataset.map(preprocess)"
   ]
  },
  {
   "cell_type": "markdown",
   "id": "194aea24",
   "metadata": {},
   "source": [
    "## 3.3 Create Labelled Dataset"
   ]
  },
  {
   "cell_type": "code",
   "execution_count": null,
   "id": "eab0a1ad",
   "metadata": {},
   "outputs": [],
   "source": [
    "# (anchor, positive) => 1,1,1,1,1\n",
    "# (anchor, negative) => 0,0,0,0,0"
   ]
  },
  {
   "cell_type": "code",
   "execution_count": 18,
   "id": "e2d2a0a9",
   "metadata": {},
   "outputs": [],
   "source": [
    "positives = tf.data.Dataset.zip((anchor, positive, tf.data.Dataset.from_tensor_slices(tf.ones(len(anchor)))))\n",
    "negatives = tf.data.Dataset.zip((anchor, negative, tf.data.Dataset.from_tensor_slices(tf.zeros(len(anchor)))))\n",
    "data = positives.concatenate(negatives)"
   ]
  },
  {
   "cell_type": "code",
   "execution_count": 19,
   "id": "3837e3ec",
   "metadata": {},
   "outputs": [],
   "source": [
    "samples = data.as_numpy_iterator()"
   ]
  },
  {
   "cell_type": "code",
   "execution_count": 20,
   "id": "8e94500c",
   "metadata": {},
   "outputs": [],
   "source": [
    "exampple = samples.next()"
   ]
  },
  {
   "cell_type": "code",
   "execution_count": 21,
   "id": "bfd5879f",
   "metadata": {},
   "outputs": [
    {
     "data": {
      "text/plain": [
       "(b'data/anchor/302dd6b4-503d-11ec-bec3-acde48001122.jpg',\n",
       " b'data/positive/abi-65a371cc-5061-11ec-a317-acde48001122.jpg',\n",
       " 1.0)"
      ]
     },
     "execution_count": 21,
     "metadata": {},
     "output_type": "execute_result"
    }
   ],
   "source": [
    "exampple"
   ]
  },
  {
   "cell_type": "markdown",
   "id": "9cf3ea86",
   "metadata": {},
   "source": [
    "## 3.4 Build Train and Test Partition"
   ]
  },
  {
   "cell_type": "code",
   "execution_count": 22,
   "id": "902f59d9",
   "metadata": {},
   "outputs": [],
   "source": [
    "def preprocess_twin(input_img, validation_img, label):\n",
    "    return(preprocess(input_img), preprocess(validation_img), label)"
   ]
  },
  {
   "cell_type": "code",
   "execution_count": 24,
   "id": "53bc7036",
   "metadata": {},
   "outputs": [],
   "source": [
    "res = preprocess_twin(*exampple)"
   ]
  },
  {
   "cell_type": "code",
   "execution_count": 25,
   "id": "43e6f8d8",
   "metadata": {},
   "outputs": [
    {
     "data": {
      "text/plain": [
       "<matplotlib.image.AxesImage at 0x15efc5820>"
      ]
     },
     "execution_count": 25,
     "metadata": {},
     "output_type": "execute_result"
    },
    {
     "data": {
      "image/png": "[encoded data removed]",
      "text/plain": [
       "<Figure size 432x288 with 1 Axes>"
      ]
     },
     "metadata": {
      "needs_background": "light"
     },
     "output_type": "display_data"
    }
   ],
   "source": [
    "plt.imshow(res[1])"
   ]
  },
  {
   "cell_type": "code",
   "execution_count": 26,
   "id": "e0571903",
   "metadata": {},
   "outputs": [
    {
     "data": {
      "text/plain": [
       "1.0"
      ]
     },
     "execution_count": 26,
     "metadata": {},
     "output_type": "execute_result"
    }
   ],
   "source": [
    "res[2]"
   ]
  },
  {
   "cell_type": "code",
   "execution_count": 27,
   "id": "b43c7cf1",
   "metadata": {},
   "outputs": [],
   "source": [
    "# Build dataloader pipeline\n",
    "data = data.map(preprocess_twin)\n",
    "data = data.cache()\n",
    "data = data.shuffle(buffer_size=10000)"
   ]
  },
  {
   "cell_type": "code",
   "execution_count": 28,
   "id": "372a42e9",
   "metadata": {},
   "outputs": [],
   "source": [
    "# Training partition\n",
    "train_data = data.take(round(len(data)*.7))\n",
    "train_data = train_data.batch(16)\n",
    "train_data = train_data.prefetch(8)"
   ]
  },
  {
   "cell_type": "code",
   "execution_count": 29,
   "id": "a865bc9b",
   "metadata": {},
   "outputs": [],
   "source": [
    "# Testing partition\n",
    "test_data = data.skip(round(len(data)*.7))\n",
    "test_data = test_data.take(round(len(data)*.3))\n",
    "test_data = test_data.batch(16)\n",
    "test_data = test_data.prefetch(8)"
   ]
  },
  {
   "cell_type": "markdown",
   "id": "67ec6f96",
   "metadata": {},
   "source": [
    "# 4. Model Engineering"
   ]
  },
  {
   "cell_type": "markdown",
   "id": "62bf05d0",
   "metadata": {},
   "source": [
    "## 4.1 Build Embedding Layer"
   ]
  },
  {
   "cell_type": "code",
   "execution_count": 33,
   "id": "f5c567ba",
   "metadata": {},
   "outputs": [],
   "source": [
    "inp = Input(shape=(100,100,3), name='input_image')"
   ]
  },
  {
   "cell_type": "code",
   "execution_count": 34,
   "id": "51c8f166",
   "metadata": {},
   "outputs": [],
   "source": [
    "c1 = Conv2D(64, (10,10), activation='relu')(inp)"
   ]
  },
  {
   "cell_type": "code",
   "execution_count": 35,
   "id": "090b826a",
   "metadata": {},
   "outputs": [],
   "source": [
    "m1 = MaxPooling2D(64, (2,2), padding='same')(c1)"
   ]
  },
  {
   "cell_type": "code",
   "execution_count": 36,
   "id": "57fe1736",
   "metadata": {},
   "outputs": [],
   "source": [
    "c2 = Conv2D(128, (7,7), activation='relu')(m1)\n",
    "m2 = MaxPooling2D(64, (2,2), padding='same')(c2)"
   ]
  },
  {
   "cell_type": "code",
   "execution_count": 37,
   "id": "0f95df3b",
   "metadata": {},
   "outputs": [],
   "source": [
    "c3 = Conv2D(128, (4,4), activation='relu')(m2)\n",
    "m3 = MaxPooling2D(64, (2,2), padding='same')(c3)"
   ]
  },
  {
   "cell_type": "code",
   "execution_count": 38,
   "id": "f7b3e18d",
   "metadata": {},
   "outputs": [],
   "source": [
    "c4 = Conv2D(256, (4,4), activation='relu')(m3)\n",
    "f1 = Flatten()(c4)\n",
    "d1 = Dense(4096, activation='sigmoid')(f1)"
   ]
  },
  {
   "cell_type": "code",
   "execution_count": 39,
   "id": "d157afa0",
   "metadata": {},
   "outputs": [
    {
     "ename": "NameError",
     "evalue": "name 'Model' is not defined",
     "output_type": "error",
     "traceback": [
      "\u001b[0;31m---------------------------------------------------------------------------\u001b[0m",
      "\u001b[0;31mNameError\u001b[0m                                 Traceback (most recent call last)",
      "\u001b[0;32m/var/folders/2q/2kbjb2q57j5dyrr9xg_p7g3m0000gn/T/ipykernel_4517/981706776.py\u001b[0m in \u001b[0;36m<module>\u001b[0;34m\u001b[0m\n\u001b[0;32m----> 1\u001b[0;31m \u001b[0mmod\u001b[0m \u001b[0;34m=\u001b[0m \u001b[0mModel\u001b[0m\u001b[0;34m(\u001b[0m\u001b[0minputs\u001b[0m\u001b[0;34m=\u001b[0m\u001b[0;34m[\u001b[0m\u001b[0minp\u001b[0m\u001b[0;34m]\u001b[0m\u001b[0;34m,\u001b[0m \u001b[0moutputs\u001b[0m\u001b[0;34m=\u001b[0m\u001b[0;34m[\u001b[0m\u001b[0md1\u001b[0m\u001b[0;34m]\u001b[0m\u001b[0;34m,\u001b[0m \u001b[0mname\u001b[0m\u001b[0;34m=\u001b[0m\u001b[0;34m'embedding'\u001b[0m\u001b[0;34m)\u001b[0m\u001b[0;34m\u001b[0m\u001b[0;34m\u001b[0m\u001b[0m\n\u001b[0m",
      "\u001b[0;31mNameError\u001b[0m: name 'Model' is not defined"
     ]
    }
   ],
   "source": [
    "mod = Model(inputs=[inp], outputs=[d1], name='embedding')"
   ]
  },
  {
   "cell_type": "code",
   "execution_count": null,
   "id": "cf3dc7c5",
   "metadata": {},
   "outputs": [],
   "source": [
    "mod.summary()"
   ]
  },
  {
   "cell_type": "code",
   "execution_count": 41,
   "id": "b0289fbe",
   "metadata": {},
   "outputs": [],
   "source": [
    "def make_embedding(): \n",
    "    inp = Input(shape=(100,100,3), name='input_image')\n",
    "    \n",
    "    # First block\n",
    "    c1 = Conv2D(64, (10,10), activation='relu')(inp)\n",
    "    m1 = MaxPooling2D(64, (2,2), padding='same')(c1)\n",
    "    \n",
    "    # Second block\n",
    "    c2 = Conv2D(128, (7,7), activation='relu')(m1)\n",
    "    m2 = MaxPooling2D(64, (2,2), padding='same')(c2)\n",
    "    \n",
    "    # Third block \n",
    "    c3 = Conv2D(128, (4,4), activation='relu')(m2)\n",
    "    m3 = MaxPooling2D(64, (2,2), padding='same')(c3)\n",
    "    \n",
    "    # Final embedding block\n",
    "    c4 = Conv2D(256, (4,4), activation='relu')(m3)\n",
    "    f1 = Flatten()(c4)\n",
    "    d1 = Dense(4096, activation='sigmoid')(f1)\n",
    "    \n",
    "    \n",
    "    return Model(inputs=[inp], outputs=[d1], name='embedding')"
   ]
  },
  {
   "cell_type": "code",
   "execution_count": 42,
   "id": "e6ee2789",
   "metadata": {},
   "outputs": [],
   "source": [
    "embedding = make_embedding()"
   ]
  },
  {
   "cell_type": "code",
   "execution_count": 43,
   "id": "3ad90f2d",
   "metadata": {},
   "outputs": [
    {
     "name": "stdout",
     "output_type": "stream",
     "text": [
      "Model: \"embedding\"\n",
      "_________________________________________________________________\n",
      " Layer (type)                Output Shape              Param #   \n",
      "=================================================================\n",
      " input_image (InputLayer)    [(None, 100, 100, 3)]     0         \n",
      "                                                                 \n",
      " conv2d_12 (Conv2D)          (None, 91, 91, 64)        19264     \n",
      "                                                                 \n",
      " max_pooling2d_9 (MaxPooling  (None, 46, 46, 64)       0         \n",
      " 2D)                                                             \n",
      "                                                                 \n",
      " conv2d_13 (Conv2D)          (None, 40, 40, 128)       401536    \n",
      "                                                                 \n",
      " max_pooling2d_10 (MaxPoolin  (None, 20, 20, 128)      0         \n",
      " g2D)                                                            \n",
      "                                                                 \n",
      " conv2d_14 (Conv2D)          (None, 17, 17, 128)       262272    \n",
      "                                                                 \n",
      " max_pooling2d_11 (MaxPoolin  (None, 9, 9, 128)        0         \n",
      " g2D)                                                            \n",
      "                                                                 \n",
      " conv2d_15 (Conv2D)          (None, 6, 6, 256)         524544    \n",
      "                                                                 \n",
      " flatten_3 (Flatten)         (None, 9216)              0         \n",
      "                                                                 \n",
      " dense_3 (Dense)             (None, 4096)              37752832  \n",
      "                                                                 \n",
      "=================================================================\n",
      "Total params: 38,960,448\n",
      "Trainable params: 38,960,448\n",
      "Non-trainable params: 0\n",
      "_________________________________________________________________\n"
     ]
    }
   ],
   "source": [
    "embedding.summary()"
   ]
  },
  {
   "cell_type": "markdown",
   "id": "3baa1097",
   "metadata": {},
   "source": [
    "## 4.2 Build Distance Layer"
   ]
  },
  {
   "cell_type": "code",
   "execution_count": 44,
   "id": "a0869a9c",
   "metadata": {},
   "outputs": [],
   "source": [
    "# Siamese L1 Distance class\n",
    "class L1Dist(Layer):\n",
    "    \n",
    "    # Init method - inheritance\n",
    "    def __init__(self, **kwargs):\n",
    "        super().__init__()\n",
    "       \n",
    "    # Magic happens here - similarity calculation\n",
    "    def call(self, input_embedding, validation_embedding):\n",
    "        return tf.math.abs(input_embedding - validation_embedding)"
   ]
  },
  {
   "cell_type": "code",
   "execution_count": 45,
   "id": "68072c29",
   "metadata": {},
   "outputs": [],
   "source": [
    "l1 = L1Dist()"
   ]
  },
  {
   "cell_type": "code",
   "execution_count": 46,
   "id": "65bab077",
   "metadata": {},
   "outputs": [
    {
     "ename": "NameError",
     "evalue": "name 'anchor_embedding' is not defined",
     "output_type": "error",
     "traceback": [
      "\u001b[0;31m---------------------------------------------------------------------------\u001b[0m",
      "\u001b[0;31mNameError\u001b[0m                                 Traceback (most recent call last)",
      "\u001b[0;32m/var/folders/2q/2kbjb2q57j5dyrr9xg_p7g3m0000gn/T/ipykernel_4517/3877395630.py\u001b[0m in \u001b[0;36m<module>\u001b[0;34m\u001b[0m\n\u001b[0;32m----> 1\u001b[0;31m \u001b[0ml1\u001b[0m\u001b[0;34m(\u001b[0m\u001b[0manchor_embedding\u001b[0m\u001b[0;34m,\u001b[0m \u001b[0mvalidation_embedding\u001b[0m\u001b[0;34m)\u001b[0m\u001b[0;34m\u001b[0m\u001b[0;34m\u001b[0m\u001b[0m\n\u001b[0m",
      "\u001b[0;31mNameError\u001b[0m: name 'anchor_embedding' is not defined"
     ]
    }
   ],
   "source": [
    "l1(anchor_embedding, validation_embedding)"
   ]
  },
  {
   "cell_type": "markdown",
   "id": "5d9ec741",
   "metadata": {},
   "source": [
    "## 4.3 Make Siamese Model"
   ]
  },
  {
   "cell_type": "code",
   "execution_count": null,
   "id": "eeea6ff9",
   "metadata": {},
   "outputs": [],
   "source": [
    "input_image = Input(name='input_img', shape=(100,100,3))\n",
    "validation_image = Input(name='validation_img', shape=(100,100,3))"
   ]
  },
  {
   "cell_type": "code",
   "execution_count": null,
   "id": "a40b6d2a",
   "metadata": {},
   "outputs": [],
   "source": [
    "inp_embedding = embedding(input_image)\n",
    "val_embedding = embedding(validation_image)"
   ]
  },
  {
   "cell_type": "code",
   "execution_count": null,
   "id": "4356a8cc",
   "metadata": {},
   "outputs": [],
   "source": [
    "siamese_layer = L1Dist()"
   ]
  },
  {
   "cell_type": "code",
   "execution_count": null,
   "id": "6784103a",
   "metadata": {},
   "outputs": [],
   "source": [
    "distances = siamese_layer(inp_embedding, val_embedding)"
   ]
  },
  {
   "cell_type": "code",
   "execution_count": null,
   "id": "6589f421",
   "metadata": {},
   "outputs": [],
   "source": [
    "classifier = Dense(1, activation='sigmoid')(distances)"
   ]
  },
  {
   "cell_type": "code",
   "execution_count": null,
   "id": "e5b4fabb",
   "metadata": {},
   "outputs": [],
   "source": [
    "siamese_network = Model(inputs=[input_image, validation_image], outputs=classifier, name='SiameseNetwork')"
   ]
  },
  {
   "cell_type": "code",
   "execution_count": null,
   "id": "60b65599",
   "metadata": {},
   "outputs": [],
   "source": [
    "siamese_network.summary()"
   ]
  },
  {
   "cell_type": "code",
   "execution_count": 47,
   "id": "21783d76",
   "metadata": {},
   "outputs": [],
   "source": [
    "def make_siamese_model(): \n",
    "    \n",
    "    # Anchor image input in the network\n",
    "    input_image = Input(name='input_img', shape=(100,100,3))\n",
    "    \n",
    "    # Validation image in the network \n",
    "    validation_image = Input(name='validation_img', shape=(100,100,3))\n",
    "    \n",
    "    # Combine siamese distance components\n",
    "    siamese_layer = L1Dist()\n",
    "    siamese_layer._name = 'distance'\n",
    "    distances = siamese_layer(embedding(input_image), embedding(validation_image))\n",
    "    \n",
    "    # Classification layer \n",
    "    classifier = Dense(1, activation='sigmoid')(distances)\n",
    "    \n",
    "    return Model(inputs=[input_image, validation_image], outputs=classifier, name='SiameseNetwork')"
   ]
  },
  {
   "cell_type": "code",
   "execution_count": 48,
   "id": "3c751ab7",
   "metadata": {},
   "outputs": [],
   "source": [
    "siamese_model = make_siamese_model()"
   ]
  },
  {
   "cell_type": "code",
   "execution_count": 49,
   "id": "f8f59244",
   "metadata": {},
   "outputs": [
    {
     "name": "stdout",
     "output_type": "stream",
     "text": [
      "Model: \"SiameseNetwork\"\n",
      "__________________________________________________________________________________________________\n",
      " Layer (type)                   Output Shape         Param #     Connected to                     \n",
      "==================================================================================================\n",
      " input_img (InputLayer)         [(None, 100, 100, 3  0           []                               \n",
      "                                )]                                                                \n",
      "                                                                                                  \n",
      " validation_img (InputLayer)    [(None, 100, 100, 3  0           []                               \n",
      "                                )]                                                                \n",
      "                                                                                                  \n",
      " embedding (Functional)         (None, 4096)         38960448    ['input_img[0][0]',              \n",
      "                                                                  'validation_img[0][0]']         \n",
      "                                                                                                  \n",
      " distance (L1Dist)              (None, 4096)         0           ['embedding[0][0]',              \n",
      "                                                                  'embedding[1][0]']              \n",
      "                                                                                                  \n",
      " dense_4 (Dense)                (None, 1)            4097        ['distance[0][0]']               \n",
      "                                                                                                  \n",
      "==================================================================================================\n",
      "Total params: 38,964,545\n",
      "Trainable params: 38,964,545\n",
      "Non-trainable params: 0\n",
      "__________________________________________________________________________________________________\n"
     ]
    }
   ],
   "source": [
    "siamese_model.summary()"
   ]
  },
  {
   "cell_type": "markdown",
   "id": "7ce91984",
   "metadata": {},
   "source": [
    "# 5. Training"
   ]
  },
  {
   "cell_type": "markdown",
   "id": "05fcb9d0",
   "metadata": {},
   "source": [
    "## 5.1 Setup Loss and Optimizer"
   ]
  },
  {
   "cell_type": "code",
   "execution_count": 50,
   "id": "8b6df062",
   "metadata": {},
   "outputs": [],
   "source": [
    "binary_cross_loss = tf.losses.BinaryCrossentropy()"
   ]
  },
  {
   "cell_type": "code",
   "execution_count": 51,
   "id": "23f42f6d",
   "metadata": {},
   "outputs": [],
   "source": [
    "opt = tf.keras.optimizers.Adam(1e-4) # 0.0001"
   ]
  },
  {
   "cell_type": "markdown",
   "id": "b2442d78",
   "metadata": {},
   "source": [
    "## 5.2 Establish Checkpoints"
   ]
  },
  {
   "cell_type": "code",
   "execution_count": 52,
   "id": "c132e83e",
   "metadata": {},
   "outputs": [],
   "source": [
    "checkpoint_dir = './training_checkpoints'\n",
    "checkpoint_prefix = os.path.join(checkpoint_dir, 'ckpt')\n",
    "checkpoint = tf.train.Checkpoint(opt=opt, siamese_model=siamese_model)"
   ]
  },
  {
   "cell_type": "markdown",
   "id": "5531f4ea",
   "metadata": {},
   "source": [
    "## 5.3 Build Train Step Function"
   ]
  },
  {
   "cell_type": "code",
   "execution_count": 53,
   "id": "b197b0c6",
   "metadata": {},
   "outputs": [],
   "source": [
    "test_batch = train_data.as_numpy_iterator()"
   ]
  },
  {
   "cell_type": "code",
   "execution_count": 54,
   "id": "e26d9f1c",
   "metadata": {},
   "outputs": [],
   "source": [
    "batch_1 = test_batch.next()"
   ]
  },
  {
   "cell_type": "code",
   "execution_count": 55,
   "id": "5ae66b89",
   "metadata": {},
   "outputs": [],
   "source": [
    "X = batch_1[:2]"
   ]
  },
  {
   "cell_type": "code",
   "execution_count": 56,
   "id": "e4f7fefd",
   "metadata": {},
   "outputs": [],
   "source": [
    "y = batch_1[2]"
   ]
  },
  {
   "cell_type": "code",
   "execution_count": 57,
   "id": "bda1e49c",
   "metadata": {},
   "outputs": [
    {
     "data": {
      "text/plain": [
       "array([1., 1., 1., 1., 1., 0., 1., 1.], dtype=float32)"
      ]
     },
     "execution_count": 57,
     "metadata": {},
     "output_type": "execute_result"
    }
   ],
   "source": [
    "y"
   ]
  },
  {
   "cell_type": "code",
   "execution_count": 58,
   "id": "a6fcb6ee",
   "metadata": {},
   "outputs": [],
   "source": [
    "tf.losses.BinaryCrossentropy??"
   ]
  },
  {
   "cell_type": "code",
   "execution_count": 66,
   "id": "834b6455",
   "metadata": {},
   "outputs": [],
   "source": [
    "@tf.function\n",
    "def train_step(batch):\n",
    "    \n",
    "    # Record all of our operations \n",
    "    with tf.GradientTape() as tape:     \n",
    "        # Get anchor and positive/negative image\n",
    "        X = batch[:2]\n",
    "        # Get label\n",
    "        y = batch[2]\n",
    "        \n",
    "        # Forward pass\n",
    "        yhat = siamese_model(X, training=True)\n",
    "        # Calculate loss\n",
    "        loss = binary_cross_loss(y, yhat)\n",
    "    print(loss)\n",
    "        \n",
    "    # Calculate gradients\n",
    "    grad = tape.gradient(loss, siamese_model.trainable_variables)\n",
    "    \n",
    "    # Calculate updated weights and apply to siamese model\n",
    "    opt.apply_gradients(zip(grad, siamese_model.trainable_variables))\n",
    "        \n",
    "    # Return loss\n",
    "    return loss"
   ]
  },
  {
   "cell_type": "markdown",
   "id": "3501dba2",
   "metadata": {},
   "source": [
    "## 5.4 Build Training Loop"
   ]
  },
  {
   "cell_type": "code",
   "execution_count": 67,
   "id": "3915f93f",
   "metadata": {},
   "outputs": [],
   "source": [
    "# Import metric calculations\n",
    "from tensorflow.keras.metrics import Precision, Recall"
   ]
  },
  {
   "cell_type": "code",
   "execution_count": 68,
   "id": "f05be3f0",
   "metadata": {},
   "outputs": [],
   "source": [
    "def train(data, EPOCHS):\n",
    "    # Loop through epochs\n",
    "    for epoch in range(1, EPOCHS+1):\n",
    "        print('\\n Epoch {}/{}'.format(epoch, EPOCHS))\n",
    "        progbar = tf.keras.utils.Progbar(len(data))\n",
    "        \n",
    "        # Creating a metric object \n",
    "        r = Recall()\n",
    "        p = Precision()\n",
    "        \n",
    "        # Loop through each batch\n",
    "        for idx, batch in enumerate(data):\n",
    "            # Run train step here\n",
    "            loss = train_step(batch)\n",
    "            yhat = siamese_model.predict(batch[:2])\n",
    "            r.update_state(batch[2], yhat)\n",
    "            p.update_state(batch[2], yhat) \n",
    "            progbar.update(idx+1)\n",
    "        print(loss.numpy(), r.result().numpy(), p.result().numpy())\n",
    "        \n",
    "        # Save checkpoints\n",
    "        if epoch % 10 == 0: \n",
    "            checkpoint.save(file_prefix=checkpoint_prefix)"
   ]
  },
  {
   "cell_type": "markdown",
   "id": "af636f1a",
   "metadata": {},
   "source": [
    "## 5.5 Train the model"
   ]
  },
  {
   "cell_type": "code",
   "execution_count": 61,
   "id": "1e3d63eb",
   "metadata": {},
   "outputs": [],
   "source": [
    "EPOCHS = 50"
   ]
  },
  {
   "cell_type": "code",
   "execution_count": 69,
   "id": "7046fb4e",
   "metadata": {},
   "outputs": [
    {
     "name": "stdout",
     "output_type": "stream",
     "text": [
      "\n",
      " Epoch 1/50\n",
      "Tensor(\"binary_crossentropy/weighted_loss/value:0\", shape=(), dtype=float32)\n",
      "Tensor(\"binary_crossentropy/weighted_loss/value:0\", shape=(), dtype=float32)\n",
      "1/1 [==============================] - 5s 5s/step\n",
      "0.69041085 1.0 1.0\n",
      "\n",
      " Epoch 2/50\n",
      "1/1 [==============================] - 4s 4s/step\n",
      "0.6193333 1.0 1.0\n",
      "\n",
      " Epoch 3/50\n",
      "1/1 [==============================] - 4s 4s/step\n",
      "0.50200903 1.0 0.875\n",
      "\n",
      " Epoch 4/50\n",
      "1/1 [==============================] - 4s 4s/step\n",
      "0.3411197 1.0 1.0\n",
      "\n",
      " Epoch 5/50\n",
      "1/1 [==============================] - 4s 4s/step\n",
      "0.2110529 1.0 1.0\n",
      "\n",
      " Epoch 6/50\n",
      "1/1 [==============================] - 4s 4s/step\n",
      "0.056606878 1.0 1.0\n",
      "\n",
      " Epoch 7/50\n",
      "1/1 [==============================] - 4s 4s/step\n",
      "0.11215416 1.0 1.0\n",
      "\n",
      " Epoch 8/50\n",
      "1/1 [==============================] - 4s 4s/step\n",
      "0.099617615 1.0 1.0\n",
      "\n",
      " Epoch 9/50\n",
      "1/1 [==============================] - 4s 4s/step\n",
      "0.09487616 1.0 1.0\n",
      "\n",
      " Epoch 10/50\n",
      "1/1 [==============================] - 4s 4s/step\n",
      "0.09741499 1.0 1.0\n",
      "\n",
      " Epoch 11/50\n",
      "1/1 [==============================] - 4s 4s/step\n",
      "0.018994723 1.0 1.0\n",
      "\n",
      " Epoch 12/50\n",
      "1/1 [==============================] - 4s 4s/step\n",
      "0.08171346 1.0 1.0\n",
      "\n",
      " Epoch 13/50\n",
      "1/1 [==============================] - 4s 4s/step\n",
      "0.0832692 1.0 1.0\n",
      "\n",
      " Epoch 14/50\n",
      "1/1 [==============================] - 4s 4s/step\n",
      "0.073997095 1.0 1.0\n",
      "\n",
      " Epoch 15/50\n",
      "1/1 [==============================] - 4s 4s/step\n",
      "0.064142376 1.0 1.0\n",
      "\n",
      " Epoch 16/50\n",
      "1/1 [==============================] - 4s 4s/step\n",
      "0.053737197 1.0 1.0\n",
      "\n",
      " Epoch 17/50\n",
      "1/1 [==============================] - 4s 4s/step\n",
      "0.047729623 1.0 1.0\n",
      "\n",
      " Epoch 18/50\n",
      "1/1 [==============================] - 5s 5s/step\n",
      "0.038894925 1.0 1.0\n",
      "\n",
      " Epoch 19/50\n",
      "1/1 [==============================] - 6s 6s/step\n",
      "0.029915243 1.0 1.0\n",
      "\n",
      " Epoch 20/50\n",
      "1/1 [==============================] - 6s 6s/step\n",
      "0.00017733914 1.0 1.0\n",
      "\n",
      " Epoch 21/50\n",
      "1/1 [==============================] - 4s 4s/step\n",
      "0.015720963 1.0 1.0\n",
      "\n",
      " Epoch 22/50\n",
      "1/1 [==============================] - 4s 4s/step\n",
      "0.010413978 1.0 1.0\n",
      "\n",
      " Epoch 23/50\n",
      "1/1 [==============================] - 5s 5s/step\n",
      "0.0064264857 1.0 1.0\n",
      "\n",
      " Epoch 24/50\n",
      "1/1 [==============================] - 5s 5s/step\n",
      "0.0037262617 1.0 1.0\n",
      "\n",
      " Epoch 25/50\n",
      "1/1 [==============================] - 5s 5s/step\n",
      "0.0020936695 1.0 1.0\n",
      "\n",
      " Epoch 26/50\n",
      "1/1 [==============================] - 5s 5s/step\n",
      "0.0011733759 1.0 1.0\n",
      "\n",
      " Epoch 27/50\n",
      "1/1 [==============================] - 5s 5s/step\n",
      "0.0006518451 1.0 1.0\n",
      "\n",
      " Epoch 28/50\n",
      "1/1 [==============================] - 5s 5s/step\n",
      "1.4059471e-05 1.0 1.0\n",
      "\n",
      " Epoch 29/50\n",
      "1/1 [==============================] - 5s 5s/step\n",
      "0.00020761481 1.0 1.0\n",
      "\n",
      " Epoch 30/50\n",
      "1/1 [==============================] - 5s 5s/step\n",
      "1.02744725e-05 1.0 1.0\n",
      "\n",
      " Epoch 31/50\n",
      "1/1 [==============================] - 5s 5s/step\n",
      "7.3109186e-05 1.0 1.0\n",
      "\n",
      " Epoch 32/50\n",
      "1/1 [==============================] - 4s 4s/step\n",
      "4.9449427e-05 1.0 1.0\n",
      "\n",
      " Epoch 33/50\n",
      "1/1 [==============================] - 5s 5s/step\n",
      "5.7593484e-06 1.0 1.0\n",
      "\n",
      " Epoch 34/50\n",
      "1/1 [==============================] - 5s 5s/step\n",
      "2.4036974e-05 1.0 1.0\n",
      "\n",
      " Epoch 35/50\n",
      "1/1 [==============================] - 5s 5s/step\n",
      "7.3910383e-06 1.0 1.0\n",
      "\n",
      " Epoch 36/50\n",
      "1/1 [==============================] - 5s 5s/step\n",
      "1.4417245e-05 1.0 1.0\n",
      "\n",
      " Epoch 37/50\n",
      "1/1 [==============================] - 5s 5s/step\n",
      "4.6789983e-06 1.0 1.0\n",
      "\n",
      " Epoch 38/50\n",
      "1/1 [==============================] - 5s 5s/step\n",
      "1.0475665e-05 1.0 1.0\n",
      "\n",
      " Epoch 39/50\n",
      "1/1 [==============================] - 4s 4s/step\n",
      "1.1041884e-05 1.0 1.0\n",
      "\n",
      " Epoch 40/50\n",
      "1/1 [==============================] - 5s 5s/step\n",
      "8.501201e-06 1.0 1.0\n",
      "\n",
      " Epoch 41/50\n",
      "1/1 [==============================] - 4s 4s/step\n",
      "5.4613183e-06 1.0 1.0\n",
      "\n",
      " Epoch 42/50\n",
      "1/1 [==============================] - 5s 5s/step\n",
      "4.209605e-06 1.0 1.0\n",
      "\n",
      " Epoch 43/50\n",
      "1/1 [==============================] - 5s 5s/step\n",
      "9.1791935e-06 1.0 1.0\n",
      "\n",
      " Epoch 44/50\n",
      "1/1 [==============================] - 5s 5s/step\n",
      "9.067434e-06 1.0 1.0\n",
      "\n",
      " Epoch 45/50\n",
      "1/1 [==============================] - 5s 5s/step\n",
      "7.517704e-06 1.0 1.0\n",
      "\n",
      " Epoch 46/50\n",
      "1/1 [==============================] - 5s 5s/step\n",
      "5.379349e-06 1.0 1.0\n",
      "\n",
      " Epoch 47/50\n",
      "1/1 [==============================] - 5s 5s/step\n",
      "8.136109e-06 1.0 1.0\n",
      "\n",
      " Epoch 48/50\n",
      "1/1 [==============================] - 4s 4s/step\n",
      "1.9297051e-06 1.0 1.0\n",
      "\n",
      " Epoch 49/50\n",
      "1/1 [==============================] - 5s 5s/step\n",
      "6.3852094e-06 1.0 1.0\n",
      "\n",
      " Epoch 50/50\n",
      "1/1 [==============================] - 5s 5s/step\n",
      "7.6145666e-06 1.0 1.0\n"
     ]
    }
   ],
   "source": [
    "train(train_data, EPOCHS)"
   ]
  },
  {
   "cell_type": "markdown",
   "id": "5de06a03",
   "metadata": {},
   "source": [
    "# 6. Evaluate Model"
   ]
  },
  {
   "cell_type": "code",
   "execution_count": 80,
   "id": "2ff0ddd1",
   "metadata": {},
   "outputs": [],
   "source": [
    "# Import metric calculations\n",
    "from tensorflow.keras.metrics import Precision, Recall"
   ]
  },
  {
   "cell_type": "markdown",
   "id": "7ae99426",
   "metadata": {},
   "source": [
    "## 6.2 Make Predictions"
   ]
  },
  {
   "cell_type": "code",
   "execution_count": 81,
   "id": "0430e2c3",
   "metadata": {},
   "outputs": [],
   "source": [
    "# Get a batch of test data\n",
    "test_input, test_val, y_true = test_data.as_numpy_iterator().next()"
   ]
  },
  {
   "cell_type": "code",
   "execution_count": 82,
   "id": "0498ba17",
   "metadata": {},
   "outputs": [],
   "source": [
    "y_hat = siamese_model.predict([test_input, test_val])"
   ]
  },
  {
   "cell_type": "code",
   "execution_count": 73,
   "id": "97200385",
   "metadata": {},
   "outputs": [
    {
     "data": {
      "text/plain": [
       "[1, 1, 1]"
      ]
     },
     "execution_count": 73,
     "metadata": {},
     "output_type": "execute_result"
    }
   ],
   "source": [
    "# Post processing the results \n",
    "[1 if prediction > 0.5 else 0 for prediction in y_hat ]"
   ]
  },
  {
   "cell_type": "code",
   "execution_count": 74,
   "id": "9e7142da",
   "metadata": {},
   "outputs": [
    {
     "data": {
      "text/plain": [
       "array([1., 1., 1.], dtype=float32)"
      ]
     },
     "execution_count": 74,
     "metadata": {},
     "output_type": "execute_result"
    }
   ],
   "source": [
    "y_true"
   ]
  },
  {
   "cell_type": "markdown",
   "id": "5b3fc8da",
   "metadata": {},
   "source": [
    "## 6.3 Calculate Metrics"
   ]
  },
  {
   "cell_type": "code",
   "execution_count": 83,
   "id": "442f6639",
   "metadata": {},
   "outputs": [
    {
     "data": {
      "text/plain": [
       "1.0"
      ]
     },
     "execution_count": 83,
     "metadata": {},
     "output_type": "execute_result"
    }
   ],
   "source": [
    "# Creating a metric object \n",
    "m = Recall()\n",
    "\n",
    "# Calculating the recall value \n",
    "m.update_state(y_true, y_hat)\n",
    "\n",
    "# Return Recall Result\n",
    "m.result().numpy()"
   ]
  },
  {
   "cell_type": "code",
   "execution_count": 84,
   "id": "2d154529",
   "metadata": {},
   "outputs": [
    {
     "data": {
      "text/plain": [
       "1.0"
      ]
     },
     "execution_count": 84,
     "metadata": {},
     "output_type": "execute_result"
    }
   ],
   "source": [
    "# Creating a metric object \n",
    "m = Precision()\n",
    "\n",
    "# Calculating the recall value \n",
    "m.update_state(y_true, y_hat)\n",
    "\n",
    "# Return Recall Result\n",
    "m.result().numpy()"
   ]
  },
  {
   "cell_type": "code",
   "execution_count": 85,
   "id": "0ecb5245",
   "metadata": {},
   "outputs": [
    {
     "name": "stdout",
     "output_type": "stream",
     "text": [
      "1.0 1.0\n"
     ]
    }
   ],
   "source": [
    "r = Recall()\n",
    "p = Precision()\n",
    "\n",
    "for test_input, test_val, y_true in test_data.as_numpy_iterator():\n",
    "    yhat = siamese_model.predict([test_input, test_val])\n",
    "    r.update_state(y_true, yhat)\n",
    "    p.update_state(y_true,yhat) \n",
    "\n",
    "print(r.result().numpy(), p.result().numpy())"
   ]
  },
  {
   "cell_type": "markdown",
   "id": "a09c772e",
   "metadata": {},
   "source": [
    "## 6.4 Viz Results"
   ]
  },
  {
   "cell_type": "code",
   "execution_count": 78,
   "id": "34c6211d",
   "metadata": {},
   "outputs": [
    {
     "data": {
      "image/png": "[encoded data removed]",
      "text/plain": [
       "<Figure size 720x576 with 2 Axes>"
      ]
     },
     "metadata": {
      "needs_background": "light"
     },
     "output_type": "display_data"
    }
   ],
   "source": [
    "# Set plot size \n",
    "plt.figure(figsize=(10,8))\n",
    "\n",
    "# Set first subplot\n",
    "plt.subplot(1,2,1)\n",
    "plt.imshow(test_input[0])\n",
    "\n",
    "# Set second subplot\n",
    "plt.subplot(1,2,2)\n",
    "plt.imshow(test_val[0])\n",
    "\n",
    "# Renders cleanly\n",
    "plt.show()"
   ]
  },
  {
   "cell_type": "markdown",
   "id": "8beb9b83",
   "metadata": {},
   "source": [
    "# 7. Save Model"
   ]
  },
  {
   "cell_type": "code",
   "execution_count": 86,
   "id": "c3632574",
   "metadata": {},
   "outputs": [
    {
     "name": "stdout",
     "output_type": "stream",
     "text": [
      "WARNING:tensorflow:Compiled the loaded model, but the compiled metrics have yet to be built. `model.compile_metrics` will be empty until you train or evaluate the model.\n"
     ]
    }
   ],
   "source": [
    "# Save weights\n",
    "siamese_model.save('siamesemodelv2.h5')"
   ]
  },
  {
   "cell_type": "code",
   "execution_count": 87,
   "id": "de4d7f09",
   "metadata": {},
   "outputs": [
    {
     "data": {
      "text/plain": [
       "__main__.L1Dist"
      ]
     },
     "execution_count": 87,
     "metadata": {},
     "output_type": "execute_result"
    }
   ],
   "source": [
    "L1Dist"
   ]
  },
  {
   "cell_type": "code",
   "execution_count": 88,
   "id": "7f8c7bb7",
   "metadata": {},
   "outputs": [
    {
     "name": "stdout",
     "output_type": "stream",
     "text": [
      "WARNING:tensorflow:No training configuration found in the save file, so the model was *not* compiled. Compile it manually.\n"
     ]
    }
   ],
   "source": [
    "# Reload model \n",
    "siamese_model = tf.keras.models.load_model('siamesemodelv2.h5', \n",
    "                                   custom_objects={'L1Dist':L1Dist, 'BinaryCrossentropy':tf.losses.BinaryCrossentropy})"
   ]
  },
  {
   "cell_type": "code",
   "execution_count": 89,
   "id": "401c5852",
   "metadata": {},
   "outputs": [
    {
     "data": {
      "text/plain": [
       "array([[0.9999995 ],\n",
       "       [0.9999858 ],\n",
       "       [0.99999857]], dtype=float32)"
      ]
     },
     "execution_count": 89,
     "metadata": {},
     "output_type": "execute_result"
    }
   ],
   "source": [
    "# Make predictions with reloaded model\n",
    "siamese_model.predict([test_input, test_val])"
   ]
  },
  {
   "cell_type": "code",
   "execution_count": 90,
   "id": "559e03df",
   "metadata": {},
   "outputs": [
    {
     "name": "stdout",
     "output_type": "stream",
     "text": [
      "Model: \"SiameseNetwork\"\n",
      "__________________________________________________________________________________________________\n",
      " Layer (type)                   Output Shape         Param #     Connected to                     \n",
      "==================================================================================================\n",
      " input_img (InputLayer)         [(None, 100, 100, 3  0           []                               \n",
      "                                )]                                                                \n",
      "                                                                                                  \n",
      " validation_img (InputLayer)    [(None, 100, 100, 3  0           []                               \n",
      "                                )]                                                                \n",
      "                                                                                                  \n",
      " embedding (Functional)         (None, 4096)         38960448    ['input_img[0][0]',              \n",
      "                                                                  'validation_img[0][0]']         \n",
      "                                                                                                  \n",
      " l1_dist_2 (L1Dist)             (None, 4096)         0           ['embedding[0][0]',              \n",
      "                                                                  'embedding[1][0]']              \n",
      "                                                                                                  \n",
      " dense_4 (Dense)                (None, 1)            4097        ['l1_dist_2[0][0]']              \n",
      "                                                                                                  \n",
      "==================================================================================================\n",
      "Total params: 38,964,545\n",
      "Trainable params: 38,964,545\n",
      "Non-trainable params: 0\n",
      "__________________________________________________________________________________________________\n"
     ]
    }
   ],
   "source": [
    "# View model summary\n",
    "siamese_model.summary()"
   ]
  },
  {
   "cell_type": "markdown",
   "id": "43ba03ae",
   "metadata": {},
   "source": [
    "# 8. Real Time Test"
   ]
  },
  {
   "cell_type": "markdown",
   "id": "ea812b3b",
   "metadata": {},
   "source": [
    "## 8.1 Verification Function"
   ]
  },
  {
   "cell_type": "code",
   "execution_count": 93,
   "id": "5a754547",
   "metadata": {},
   "outputs": [
    {
     "ename": "NameError",
     "evalue": "name 'application_data' is not defined",
     "output_type": "error",
     "traceback": [
      "\u001b[0;31m---------------------------------------------------------------------------\u001b[0m",
      "\u001b[0;31mNameError\u001b[0m                                 Traceback (most recent call last)",
      "\u001b[0;32m/var/folders/2q/2kbjb2q57j5dyrr9xg_p7g3m0000gn/T/ipykernel_4517/2397190021.py\u001b[0m in \u001b[0;36m<module>\u001b[0;34m\u001b[0m\n\u001b[0;32m----> 1\u001b[0;31m \u001b[0mapplication_data\u001b[0m\u001b[0;34m/\u001b[0m\u001b[0mvrification_images\u001b[0m\u001b[0;34m\u001b[0m\u001b[0;34m\u001b[0m\u001b[0m\n\u001b[0m",
      "\u001b[0;31mNameError\u001b[0m: name 'application_data' is not defined"
     ]
    }
   ],
   "source": [
    "application_data/vrification_images"
   ]
  },
  {
   "cell_type": "code",
   "execution_count": 94,
   "id": "024a1518",
   "metadata": {},
   "outputs": [
    {
     "data": {
      "text/plain": [
       "['fa608400-505a-11ec-b196-acde48001122.jpg',\n",
       " 'faa8236e-505a-11ec-b196-acde48001122.jpg',\n",
       " 'fa62d26e-505a-11ec-b196-acde48001122.jpg',\n",
       " 'faeee29a-505a-11ec-b196-acde48001122.jpg',\n",
       " 'fa67ba22-505a-11ec-b196-acde48001122.jpg',\n",
       " 'bbe892a6-505c-11ec-9a03-acde48001122.jpg',\n",
       " 'faf472c8-505a-11ec-b196-acde48001122.jpg',\n",
       " 'faf0b034-505a-11ec-b196-acde48001122.jpg',\n",
       " 'bbe7dbe0-505c-11ec-9a03-acde48001122.jpg',\n",
       " 'fa66372e-505a-11ec-b196-acde48001122.jpg',\n",
       " 'faab677c-505a-11ec-b196-acde48001122.jpg',\n",
       " 'fad23cb2-505a-11ec-b196-acde48001122.jpg',\n",
       " 'fa66f77c-505a-11ec-b196-acde48001122.jpg',\n",
       " 'bbe4bb22-505c-11ec-9a03-acde48001122.jpg',\n",
       " 'fa63a4b4-505a-11ec-b196-acde48001122.jpg',\n",
       " 'faaa1f8e-505a-11ec-b196-acde48001122.jpg',\n",
       " 'facc32a4-505a-11ec-b196-acde48001122.jpg',\n",
       " 'faacc5f4-505a-11ec-b196-acde48001122.jpg',\n",
       " 'bbe3208c-505c-11ec-9a03-acde48001122.jpg',\n",
       " 'fa89a95c-505a-11ec-b196-acde48001122.jpg',\n",
       " 'facfc77a-505a-11ec-b196-acde48001122.jpg',\n",
       " 'faee1dd8-505a-11ec-b196-acde48001122.jpg',\n",
       " 'bbe64a32-505c-11ec-9a03-acde48001122.jpg',\n",
       " 'faf2f506-505a-11ec-b196-acde48001122.jpg',\n",
       " 'fa8676ba-505a-11ec-b196-acde48001122.jpg',\n",
       " 'faa49df2-505a-11ec-b196-acde48001122.jpg',\n",
       " 'faa93060-505a-11ec-b196-acde48001122.jpg',\n",
       " 'fa84edea-505a-11ec-b196-acde48001122.jpg',\n",
       " 'fad16bb6-505a-11ec-b196-acde48001122.jpg',\n",
       " 'fa88122c-505a-11ec-b196-acde48001122.jpg',\n",
       " 'faefa4c8-505a-11ec-b196-acde48001122.jpg',\n",
       " 'bbe58034-505c-11ec-9a03-acde48001122.jpg',\n",
       " 'facf002e-505a-11ec-b196-acde48001122.jpg',\n",
       " 'fa8424dc-505a-11ec-b196-acde48001122.jpg',\n",
       " 'faf176a4-505a-11ec-b196-acde48001122.jpg',\n",
       " 'faa563ae-505a-11ec-b196-acde48001122.jpg',\n",
       " 'faa7038a-505a-11ec-b196-acde48001122.jpg',\n",
       " 'fa61fa38-505a-11ec-b196-acde48001122.jpg',\n",
       " 'fa653aea-505a-11ec-b196-acde48001122.jpg',\n",
       " 'facd2614-505a-11ec-b196-acde48001122.jpg',\n",
       " 'fa646ade-505a-11ec-b196-acde48001122.jpg',\n",
       " 'bbe718d6-505c-11ec-9a03-acde48001122.jpg',\n",
       " 'bbe24ad6-505c-11ec-9a03-acde48001122.jpg',\n",
       " 'faf3b18a-505a-11ec-b196-acde48001122.jpg',\n",
       " 'face24ec-505a-11ec-b196-acde48001122.jpg',\n",
       " 'fa873bcc-505a-11ec-b196-acde48001122.jpg',\n",
       " 'fa88e6fc-505a-11ec-b196-acde48001122.jpg',\n",
       " 'faa61e5c-505a-11ec-b196-acde48001122.jpg',\n",
       " 'fad09a4c-505a-11ec-b196-acde48001122.jpg',\n",
       " 'fa836254-505a-11ec-b196-acde48001122.jpg',\n",
       " 'faf230e4-505a-11ec-b196-acde48001122.jpg',\n",
       " 'fa85b5c2-505a-11ec-b196-acde48001122.jpg',\n",
       " 'fad311f0-505a-11ec-b196-acde48001122.jpg']"
      ]
     },
     "execution_count": 94,
     "metadata": {},
     "output_type": "execute_result"
    }
   ],
   "source": [
    "os.listdir(os.path.join('application_data', 'verification_images'))"
   ]
  },
  {
   "cell_type": "code",
   "execution_count": 95,
   "id": "8d03e2ce",
   "metadata": {},
   "outputs": [
    {
     "data": {
      "text/plain": [
       "'application_data/input_image/input_image.jpg'"
      ]
     },
     "execution_count": 95,
     "metadata": {},
     "output_type": "execute_result"
    }
   ],
   "source": [
    "os.path.join('application_data', 'input_image', 'input_image.jpg')"
   ]
  },
  {
   "cell_type": "code",
   "execution_count": 96,
   "id": "a4f57e1c",
   "metadata": {},
   "outputs": [
    {
     "name": "stdout",
     "output_type": "stream",
     "text": [
      "application_data/verification_images/fa608400-505a-11ec-b196-acde48001122.jpg\n",
      "application_data/verification_images/faa8236e-505a-11ec-b196-acde48001122.jpg\n",
      "application_data/verification_images/fa62d26e-505a-11ec-b196-acde48001122.jpg\n",
      "application_data/verification_images/faeee29a-505a-11ec-b196-acde48001122.jpg\n",
      "application_data/verification_images/fa67ba22-505a-11ec-b196-acde48001122.jpg\n",
      "application_data/verification_images/bbe892a6-505c-11ec-9a03-acde48001122.jpg\n",
      "application_data/verification_images/faf472c8-505a-11ec-b196-acde48001122.jpg\n",
      "application_data/verification_images/faf0b034-505a-11ec-b196-acde48001122.jpg\n",
      "application_data/verification_images/bbe7dbe0-505c-11ec-9a03-acde48001122.jpg\n",
      "application_data/verification_images/fa66372e-505a-11ec-b196-acde48001122.jpg\n",
      "application_data/verification_images/faab677c-505a-11ec-b196-acde48001122.jpg\n",
      "application_data/verification_images/fad23cb2-505a-11ec-b196-acde48001122.jpg\n",
      "application_data/verification_images/fa66f77c-505a-11ec-b196-acde48001122.jpg\n",
      "application_data/verification_images/bbe4bb22-505c-11ec-9a03-acde48001122.jpg\n",
      "application_data/verification_images/fa63a4b4-505a-11ec-b196-acde48001122.jpg\n",
      "application_data/verification_images/faaa1f8e-505a-11ec-b196-acde48001122.jpg\n",
      "application_data/verification_images/facc32a4-505a-11ec-b196-acde48001122.jpg\n",
      "application_data/verification_images/faacc5f4-505a-11ec-b196-acde48001122.jpg\n",
      "application_data/verification_images/bbe3208c-505c-11ec-9a03-acde48001122.jpg\n",
      "application_data/verification_images/fa89a95c-505a-11ec-b196-acde48001122.jpg\n",
      "application_data/verification_images/facfc77a-505a-11ec-b196-acde48001122.jpg\n",
      "application_data/verification_images/faee1dd8-505a-11ec-b196-acde48001122.jpg\n",
      "application_data/verification_images/bbe64a32-505c-11ec-9a03-acde48001122.jpg\n",
      "application_data/verification_images/faf2f506-505a-11ec-b196-acde48001122.jpg\n",
      "application_data/verification_images/fa8676ba-505a-11ec-b196-acde48001122.jpg\n",
      "application_data/verification_images/faa49df2-505a-11ec-b196-acde48001122.jpg\n",
      "application_data/verification_images/faa93060-505a-11ec-b196-acde48001122.jpg\n",
      "application_data/verification_images/fa84edea-505a-11ec-b196-acde48001122.jpg\n",
      "application_data/verification_images/fad16bb6-505a-11ec-b196-acde48001122.jpg\n",
      "application_data/verification_images/fa88122c-505a-11ec-b196-acde48001122.jpg\n",
      "application_data/verification_images/faefa4c8-505a-11ec-b196-acde48001122.jpg\n",
      "application_data/verification_images/bbe58034-505c-11ec-9a03-acde48001122.jpg\n",
      "application_data/verification_images/facf002e-505a-11ec-b196-acde48001122.jpg\n",
      "application_data/verification_images/fa8424dc-505a-11ec-b196-acde48001122.jpg\n",
      "application_data/verification_images/faf176a4-505a-11ec-b196-acde48001122.jpg\n",
      "application_data/verification_images/faa563ae-505a-11ec-b196-acde48001122.jpg\n",
      "application_data/verification_images/faa7038a-505a-11ec-b196-acde48001122.jpg\n",
      "application_data/verification_images/fa61fa38-505a-11ec-b196-acde48001122.jpg\n",
      "application_data/verification_images/fa653aea-505a-11ec-b196-acde48001122.jpg\n",
      "application_data/verification_images/facd2614-505a-11ec-b196-acde48001122.jpg\n",
      "application_data/verification_images/fa646ade-505a-11ec-b196-acde48001122.jpg\n",
      "application_data/verification_images/bbe718d6-505c-11ec-9a03-acde48001122.jpg\n",
      "application_data/verification_images/bbe24ad6-505c-11ec-9a03-acde48001122.jpg\n",
      "application_data/verification_images/faf3b18a-505a-11ec-b196-acde48001122.jpg\n",
      "application_data/verification_images/face24ec-505a-11ec-b196-acde48001122.jpg\n",
      "application_data/verification_images/fa873bcc-505a-11ec-b196-acde48001122.jpg\n",
      "application_data/verification_images/fa88e6fc-505a-11ec-b196-acde48001122.jpg\n",
      "application_data/verification_images/faa61e5c-505a-11ec-b196-acde48001122.jpg\n",
      "application_data/verification_images/fad09a4c-505a-11ec-b196-acde48001122.jpg\n",
      "application_data/verification_images/fa836254-505a-11ec-b196-acde48001122.jpg\n",
      "application_data/verification_images/faf230e4-505a-11ec-b196-acde48001122.jpg\n",
      "application_data/verification_images/fa85b5c2-505a-11ec-b196-acde48001122.jpg\n",
      "application_data/verification_images/fad311f0-505a-11ec-b196-acde48001122.jpg\n"
     ]
    }
   ],
   "source": [
    "for image in os.listdir(os.path.join('application_data', 'verification_images')):\n",
    "    validation_img = os.path.join('application_data', 'verification_images', image)\n",
    "    print(validation_img)"
   ]
  },
  {
   "cell_type": "code",
   "execution_count": 97,
   "id": "fa5fe921",
   "metadata": {},
   "outputs": [],
   "source": [
    "def verify(model, detection_threshold, verification_threshold):\n",
    "    # Build results array\n",
    "    results = []\n",
    "    for image in os.listdir(os.path.join('application_data', 'verification_images')):\n",
    "        input_img = preprocess(os.path.join('application_data', 'input_image', 'input_image.jpg'))\n",
    "        validation_img = preprocess(os.path.join('application_data', 'verification_images', image))\n",
    "        \n",
    "        # Make Predictions \n",
    "        result = model.predict(list(np.expand_dims([input_img, validation_img], axis=1)))\n",
    "        results.append(result)\n",
    "    \n",
    "    # Detection Threshold: Metric above which a prediciton is considered positive \n",
    "    detection = np.sum(np.array(results) > detection_threshold)\n",
    "    \n",
    "    # Verification Threshold: Proportion of positive predictions / total positive samples \n",
    "    verification = detection / len(os.listdir(os.path.join('application_data', 'verification_images'))) \n",
    "    verified = verification > verification_threshold\n",
    "    \n",
    "    return results, verified"
   ]
  },
  {
   "cell_type": "markdown",
   "id": "c01e8b6c",
   "metadata": {},
   "source": [
    "## 8.2 OpenCV Real Time Verification"
   ]
  },
  {
   "cell_type": "code",
   "execution_count": 99,
   "id": "4872e415",
   "metadata": {},
   "outputs": [
    {
     "name": "stdout",
     "output_type": "stream",
     "text": [
      "True\n"
     ]
    }
   ],
   "source": [
    "cap = cv2.VideoCapture(0)\n",
    "while cap.isOpened():\n",
    "    ret, frame = cap.read()\n",
    "    frame = frame[120:120+250,200:200+250, :]\n",
    "    \n",
    "    cv2.imshow('Verification', frame)\n",
    "    \n",
    "    # Verification trigger\n",
    "    if cv2.waitKey(10) & 0xFF == ord('v'):\n",
    "        # Save input image to application_data/input_image folder \n",
    "#         hsv = cv2.cvtColor(frame, cv2.COLOR_BGR2HSV)\n",
    "#         h, s, v = cv2.split(hsv)\n",
    "\n",
    "#         lim = 255 - 10\n",
    "#         v[v > lim] = 255\n",
    "#         v[v <= lim] -= 10\n",
    "        \n",
    "#         final_hsv = cv2.merge((h, s, v))\n",
    "#         img = cv2.cvtColor(final_hsv, cv2.COLOR_HSV2BGR)\n",
    "\n",
    "        cv2.imwrite(os.path.join('application_data', 'input_image', 'input_image.jpg'), frame)\n",
    "        # Run verification\n",
    "        results, verified = verify(siamese_model, 0.5, 0.5)\n",
    "        print(verified)\n",
    "    \n",
    "    if cv2.waitKey(10) & 0xFF == ord('q'):\n",
    "        break\n",
    "cap.release()\n",
    "cv2.destroyAllWindows()"
   ]
  },
  {
   "cell_type": "code",
   "execution_count": 101,
   "id": "0e7bdd8e",
   "metadata": {},
   "outputs": [
    {
     "data": {
      "text/plain": [
       "24"
      ]
     },
     "execution_count": 101,
     "metadata": {},
     "output_type": "execute_result"
    }
   ],
   "source": [
    "np.sum(np.squeeze(results) > 0.9)"
   ]
  },
  {
   "cell_type": "code",
   "execution_count": 100,
   "id": "e7b06d97",
   "metadata": {},
   "outputs": [
    {
     "data": {
      "text/plain": [
       "[array([[0.9958334]], dtype=float32),\n",
       " array([[0.6089567]], dtype=float32),\n",
       " array([[0.9708011]], dtype=float32),\n",
       " array([[0.9939941]], dtype=float32),\n",
       " array([[0.46923843]], dtype=float32),\n",
       " array([[0.99462616]], dtype=float32),\n",
       " array([[0.7800153]], dtype=float32),\n",
       " array([[0.95176566]], dtype=float32),\n",
       " array([[0.9942591]], dtype=float32),\n",
       " array([[0.76426184]], dtype=float32),\n",
       " array([[0.8128914]], dtype=float32),\n",
       " array([[0.23171106]], dtype=float32),\n",
       " array([[0.2723994]], dtype=float32),\n",
       " array([[0.99391246]], dtype=float32),\n",
       " array([[0.70079076]], dtype=float32),\n",
       " array([[0.24944732]], dtype=float32),\n",
       " array([[0.99282277]], dtype=float32),\n",
       " array([[0.5681321]], dtype=float32),\n",
       " array([[0.9874129]], dtype=float32),\n",
       " array([[0.86505234]], dtype=float32),\n",
       " array([[0.80912423]], dtype=float32),\n",
       " array([[0.99869365]], dtype=float32),\n",
       " array([[0.99491054]], dtype=float32),\n",
       " array([[0.39032632]], dtype=float32),\n",
       " array([[0.50205415]], dtype=float32),\n",
       " array([[0.9977671]], dtype=float32),\n",
       " array([[0.391283]], dtype=float32),\n",
       " array([[0.9370932]], dtype=float32),\n",
       " array([[0.22177619]], dtype=float32),\n",
       " array([[0.13478091]], dtype=float32),\n",
       " array([[0.9808786]], dtype=float32),\n",
       " array([[0.9925525]], dtype=float32),\n",
       " array([[0.71920276]], dtype=float32),\n",
       " array([[0.9333052]], dtype=float32),\n",
       " array([[0.84113777]], dtype=float32),\n",
       " array([[0.9910538]], dtype=float32),\n",
       " array([[0.8408421]], dtype=float32),\n",
       " array([[0.96727943]], dtype=float32),\n",
       " array([[0.50675696]], dtype=float32),\n",
       " array([[0.9960261]], dtype=float32),\n",
       " array([[0.67235154]], dtype=float32),\n",
       " array([[0.99394965]], dtype=float32),\n",
       " array([[0.99096256]], dtype=float32),\n",
       " array([[0.59309745]], dtype=float32),\n",
       " array([[0.9898874]], dtype=float32),\n",
       " array([[0.27500877]], dtype=float32),\n",
       " array([[0.28281015]], dtype=float32),\n",
       " array([[0.9674418]], dtype=float32),\n",
       " array([[0.386108]], dtype=float32),\n",
       " array([[0.97827816]], dtype=float32),\n",
       " array([[0.46202648]], dtype=float32),\n",
       " array([[0.8270918]], dtype=float32),\n",
       " array([[0.8913888]], dtype=float32)]"
      ]
     },
     "execution_count": 100,
     "metadata": {},
     "output_type": "execute_result"
    }
   ],
   "source": [
    "results"
   ]
  },
  {
   "cell_type": "code",
   "execution_count": null,
   "id": "46c11d2e",
   "metadata": {},
   "outputs": [],
   "source": []
  }
 ],
 "metadata": {
  "kernelspec": {
   "display_name": "tfFaceRecognition",
   "language": "python",
   "name": "tffacerecognition"
  },
  "language_info": {
   "codemirror_mode": {
    "name": "ipython",
    "version": 3
   },
   "file_extension": ".py",
   "mimetype": "text/x-python",
   "name": "python",
   "nbconvert_exporter": "python",
   "pygments_lexer": "ipython3",
   "version": "3.8.9"
  }
 },
 "nbformat": 4,
 "nbformat_minor": 5
}
